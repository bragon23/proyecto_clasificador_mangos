{
 "cells": [
  {
   "cell_type": "markdown",
   "metadata": {
    "id": "G5oiysvhrYUW"
   },
   "source": [
    "#### **PROGRAMA QUE UTILIZA MACHING LEARNIN PARA CLASIFICAR LOS MANGOS MADUROS Y PODRIDOS**\n",
    "---\n"
   ]
  },
  {
   "cell_type": "markdown",
   "metadata": {
    "id": "59ICgMNms9U5"
   },
   "source": [
    "Este programa ilustra el uso de las librerías skimage, pathlib, numpy y matplotlib, para cargar un dataset de imagenes, inspeccionar datos, graficar y corregir errores. El conjunto de datos tomado para este trabajo es de: https://www.kaggle.com/datasets/adrinbd/unripe-ripe-rotten-mango\n",
    "\n",
    "Este conjunto de datos cuenta con una clasificacion de 3 estados del mango, maduro(ripe), inmaduro(unripe) y podrido(rotten) con sus respectivas imagenes para el entrenamiento del modelo, de este conjunto de datos solo se tendran en cuenta los estados maduros y podridos, se trabajara con las mascaras de los mangos, el proceso para obtener estas mascaras no se tendra en cuneta en este trabajo.\n",
    "\n",
    "El objetivo de estos conjuntos de imagenes es ser capas de difinir si un mango esta maduro(ripe) o podrido(rotten), usando ese conjunto de imagenes para entrenar este modelo."
   ]
  },
  {
   "cell_type": "code",
   "execution_count": 1,
   "metadata": {
    "id": "TU9C_RItuCWk"
   },
   "outputs": [],
   "source": [
    "\n",
    "import matplotlib\n",
    "import matplotlib.pyplot as plt\n",
    "\n",
    "from pathlib import Path\n",
    "import os\n",
    "\n",
    "from skimage.data import page\n",
    "from skimage.filters import threshold_otsu\n",
    "from skimage.color import rgb2gray\n",
    "\n",
    "import pandas as pd\n",
    "import numpy as np\n",
    "import skimage as ski\n",
    "import statistics\n",
    "\n",
    "from scipy.ndimage import binary_fill_holes\n",
    "from skimage.morphology import remove_small_objects\n",
    "\n",
    "\n"
   ]
  },
  {
   "cell_type": "markdown",
   "metadata": {
    "id": "vFwZYlHGuE5E"
   },
   "source": [
    "Se creara la función obtener_imagenes(), la cual retornara una lista con donde cada celda contendra un vector con el nombre de la imagen, la imagen a color, la imagen en escala de grises y dejara una posicion disponible para la mascara de cada imagen, dichas mascaras estan en otra carpeta y se agregaran por medio de otra funcion."
   ]
  },
  {
   "cell_type": "code",
   "execution_count": 2,
   "metadata": {
    "id": "fLJVFnSaGeSD"
   },
   "outputs": [],
   "source": [
    "def obtener_imagenes(ruta_carpeta):\n",
    "    \"\"\"Devuelve una lista de imágenes normales y en escala de grises de la carpeta especificada con el respectivo nombre de la imgen.\"\"\"\n",
    "    imagenes = []\n",
    "    cont = 0\n",
    "    for archivo in os.listdir(ruta_carpeta):\n",
    "        try:\n",
    "            img = ski.io.imread(ruta_carpeta+\"/\"+archivo)\n",
    "            img = ski.util.img_as_ubyte(img)\n",
    "            gray_image = rgb2gray(img)\n",
    "            imagenes.append([archivo,img,gray_image, \"\"])\n",
    "        except Exception as e:\n",
    "            cont = cont + 1\n",
    "\n",
    "    return imagenes"
   ]
  },
  {
   "cell_type": "markdown",
   "metadata": {},
   "source": [
    "La funcion obtener_mask(), recibe como parametro la ruta en la que se encuentran las mascaras y la lista que contiene las imagenes con sus nombres, imagen, imagen en escala de grises y el espacion donde se almacenara la mascara correspondiente, cabe aclarar que las mascaras tienen el mismo nombre que la imagen original agregando mark_ripe o mark_rotten, estos separado por un guion bajo, al final retornara la lista que recibe con el espacio de la mascara lleno con su mascara correspondiente."
   ]
  },
  {
   "cell_type": "code",
   "execution_count": 3,
   "metadata": {
    "id": "jRbqCu0sQ7pi"
   },
   "outputs": [],
   "source": [
    "def obtener_mask(ruta_carpeta, coleccion):\n",
    "    \"\"\"Devuelve una lista de imágenes normales y en escala de grises de la carpeta especificada con el respectivo nombre de la imgen.\"\"\"\n",
    "    imagenes = []\n",
    "    cont = 0\n",
    "    carpeta = os.listdir(ruta_carpeta)\n",
    "    for i in coleccion:\n",
    "        nombre_img = obtener_primera_palabra(i[0],\".\")\n",
    "        #print(nombre_img)\n",
    "        for archivo in carpeta:\n",
    "\n",
    "            nombre_mask = obtener_primera_palabra(archivo,\"_\")\n",
    "            #print(nombre_mask, \"y\",nombre_img)\n",
    "            if nombre_img == nombre_mask:\n",
    "                mask = np.load(ruta_carpeta+\"/\"+archivo)\n",
    "                if len(mask.shape) == 3:\n",
    "                    mask=mask[:,:,1]\n",
    "                i[3] = mask\n",
    "                imagenes.append(i)\n",
    "                break\n",
    "\n",
    "\n",
    "    return imagenes"
   ]
  },
  {
   "cell_type": "markdown",
   "metadata": {},
   "source": [
    "La funcion obtener_primera_palabra(),  permite obtener la palabra de una cadena que aparece antes del caracter que recibe por parametro."
   ]
  },
  {
   "cell_type": "code",
   "execution_count": 4,
   "metadata": {
    "id": "VQRFC7i5Rpep"
   },
   "outputs": [],
   "source": [
    "def obtener_primera_palabra(palabra, caracter):\n",
    "    p = palabra.split(caracter)\n",
    "    return p[0]"
   ]
  },
  {
   "cell_type": "markdown",
   "metadata": {},
   "source": [
    "La funcion intensity_table(), crea una tabla con el valor de la intensidad de la imagen en escala de grises"
   ]
  },
  {
   "cell_type": "code",
   "execution_count": 5,
   "metadata": {
    "id": "jMk2IqnAudUu"
   },
   "outputs": [],
   "source": [
    "def intensity_table(grayValues):\n",
    "    table = {}\n",
    "    for ival in range(256):\n",
    "        table['val_'+ str(ival)] = [np.count_nonzero(grayValues == ival)]\n",
    "\n",
    "    df_table = pd.DataFrame.from_dict(table, orient='columns')\n",
    "    return df_table"
   ]
  },
  {
   "cell_type": "markdown",
   "metadata": {
    "id": "-kROxSxGFQv0"
   },
   "source": []
  },
  {
   "cell_type": "code",
   "execution_count": 6,
   "metadata": {
    "id": "zrmIGARGFQ9r"
   },
   "outputs": [],
   "source": [
    "def hist2features(grayImg, mangoMask):\n",
    "    #color = ski.util.img_as_ubyte(colorImg)\n",
    "    gray = ski.util.img_as_ubyte(grayImg)\n",
    "    #mango_mask = ski.util.invert(mangoMask)\n",
    "    mango_mask = mangoMask\n",
    "\n",
    "    masked_gray = gray * mango_mask\n",
    "    plt.imshow(masked_gray, cmap = 'gray')\n",
    "    plt.show()\n",
    "    df_intensities = intensity_table(masked_gray)\n",
    "    print(df_intensities)\n",
    "    return df_intensities"
   ]
  },
  {
   "cell_type": "code",
   "execution_count": null,
   "metadata": {
    "id": "u0_o2TSzFbXL"
   },
   "outputs": [],
   "source": []
  },
  {
   "cell_type": "code",
   "execution_count": 8,
   "metadata": {
    "id": "W3N7djx1FcUM"
   },
   "outputs": [],
   "source": [
    "ripe = obtener_imagenes(\"./ripe\")\n",
    "rotten = obtener_imagenes(\"./rotten\")\n"
   ]
  },
  {
   "cell_type": "code",
   "execution_count": 9,
   "metadata": {
    "id": "FQTx9fqkSnOD"
   },
   "outputs": [],
   "source": [
    "ripe = obtener_mask(\"./ripe_masks\",ripe)\n",
    "rotten = obtener_mask(\"./rotten_masks\",rotten)"
   ]
  },
  {
   "cell_type": "markdown",
   "metadata": {},
   "source": [
    "Se busca ver graficamente la cantidad de imagenes que se tienen de los mangos ripe y los mangos rotten."
   ]
  },
  {
   "cell_type": "code",
   "execution_count": 11,
   "metadata": {},
   "outputs": [
    {
     "data": {
      "image/png": "[encoded data removed]",
      "text/plain": [
       "<Figure size 640x480 with 1 Axes>"
      ]
     },
     "metadata": {},
     "output_type": "display_data"
    }
   ],
   "source": [
    "cantidad_imagenes_rotten= len(rotten)\n",
    "cantidad_imagenes_ripe = len(ripe)\n",
    "\n",
    "plt.bar([\"Rotten\", \"Ripe\"], [cantidad_imagenes_rotten, cantidad_imagenes_ripe], width=0.6)\n",
    "\n",
    "#mostrar los valores sobre\n",
    "plt.text(0,cantidad_imagenes_rotten +2, str(cantidad_imagenes_rotten), ha='center')\n",
    "plt.text(1,cantidad_imagenes_ripe +2, str(cantidad_imagenes_ripe), ha='center')\n",
    "\n",
    "# Personalizar el gráfico\n",
    "plt.title('Cantidad de imagenes Rotten VS Ripe')\n",
    "plt.ylabel('Cantidad')\n",
    "plt.xlabel('Estado')\n",
    "\n",
    "# Mostrar el gráfico\n",
    "plt.show()\n",
    "\n",
    "\n",
    "# Mostrar el gráfico\n",
    "plt.show()"
   ]
  },
  {
   "cell_type": "markdown",
   "metadata": {},
   "source": [
    "Como se ve en la grafica anterior, la cantidad de imagenes, se encuentra desbalanceada a favor de los mangos rotten, teniendo este casi el doble de imagenes de los mangos ripe."
   ]
  },
  {
   "cell_type": "code",
   "execution_count": 14,
   "metadata": {},
   "outputs": [],
   "source": []
  },
  {
   "cell_type": "code",
   "execution_count": 15,
   "metadata": {
    "colab": {
     "base_uri": "https://localhost:8080/",
     "height": 193
    },
    "id": "Twrb5vNTcbFO",
    "outputId": "c3771854-1c3d-49b6-8666-f8ee587554e5"
   },
   "outputs": [
    {
     "data": {
      "image/png": "[encoded data removed]",
      "text/plain": [
       "<Figure size 640x480 with 1 Axes>"
      ]
     },
     "metadata": {},
     "output_type": "display_data"
    },
    {
     "name": "stdout",
     "output_type": "stream",
     "text": [
      "   val_0  val_1  val_2  val_3  val_4  val_5  val_6  val_7  val_8  val_9  ...  \\\n",
      "0  43011      0      0      0      0      0      0      0      0      0  ...   \n",
      "\n",
      "   val_246  val_247  val_248  val_249  val_250  val_251  val_252  val_253  \\\n",
      "0        0        0        0        0        0        0        0        0   \n",
      "\n",
      "   val_254  val_255  \n",
      "0        0        0  \n",
      "\n",
      "[1 rows x 256 columns]\n"
     ]
    },
    {
     "data": {
      "text/html": [
       "<div>\n",
       "<style scoped>\n",
       "    .dataframe tbody tr th:only-of-type {\n",
       "        vertical-align: middle;\n",
       "    }\n",
       "\n",
       "    .dataframe tbody tr th {\n",
       "        vertical-align: top;\n",
       "    }\n",
       "\n",
       "    .dataframe thead th {\n",
       "        text-align: right;\n",
       "    }\n",
       "</style>\n",
       "<table border=\"1\" class=\"dataframe\">\n",
       "  <thead>\n",
       "    <tr style=\"text-align: right;\">\n",
       "      <th></th>\n",
       "      <th>val_0</th>\n",
       "      <th>val_1</th>\n",
       "      <th>val_2</th>\n",
       "      <th>val_3</th>\n",
       "      <th>val_4</th>\n",
       "      <th>val_5</th>\n",
       "      <th>val_6</th>\n",
       "      <th>val_7</th>\n",
       "      <th>val_8</th>\n",
       "      <th>val_9</th>\n",
       "      <th>...</th>\n",
       "      <th>val_246</th>\n",
       "      <th>val_247</th>\n",
       "      <th>val_248</th>\n",
       "      <th>val_249</th>\n",
       "      <th>val_250</th>\n",
       "      <th>val_251</th>\n",
       "      <th>val_252</th>\n",
       "      <th>val_253</th>\n",
       "      <th>val_254</th>\n",
       "      <th>val_255</th>\n",
       "    </tr>\n",
       "  </thead>\n",
       "  <tbody>\n",
       "    <tr>\n",
       "      <th>0</th>\n",
       "      <td>43011</td>\n",
       "      <td>0</td>\n",
       "      <td>0</td>\n",
       "      <td>0</td>\n",
       "      <td>0</td>\n",
       "      <td>0</td>\n",
       "      <td>0</td>\n",
       "      <td>0</td>\n",
       "      <td>0</td>\n",
       "      <td>0</td>\n",
       "      <td>...</td>\n",
       "      <td>0</td>\n",
       "      <td>0</td>\n",
       "      <td>0</td>\n",
       "      <td>0</td>\n",
       "      <td>0</td>\n",
       "      <td>0</td>\n",
       "      <td>0</td>\n",
       "      <td>0</td>\n",
       "      <td>0</td>\n",
       "      <td>0</td>\n",
       "    </tr>\n",
       "  </tbody>\n",
       "</table>\n",
       "<p>1 rows × 256 columns</p>\n",
       "</div>"
      ],
      "text/plain": [
       "   val_0  val_1  val_2  val_3  val_4  val_5  val_6  val_7  val_8  val_9  ...  \\\n",
       "0  43011      0      0      0      0      0      0      0      0      0  ...   \n",
       "\n",
       "   val_246  val_247  val_248  val_249  val_250  val_251  val_252  val_253  \\\n",
       "0        0        0        0        0        0        0        0        0   \n",
       "\n",
       "   val_254  val_255  \n",
       "0        0        0  \n",
       "\n",
       "[1 rows x 256 columns]"
      ]
     },
     "execution_count": 15,
     "metadata": {},
     "output_type": "execute_result"
    }
   ],
   "source": [
    "a =112\n",
    "imagen2 = ripe[a]\n",
    "hist2features(imagen2[2],imagen2[3])"
   ]
  },
  {
   "cell_type": "code",
   "execution_count": 16,
   "metadata": {},
   "outputs": [],
   "source": [
    "def extract_properties(mango_img, gray_img, mango_mask):\n",
    "\n",
    "    labeled_mango, count = ski.measure.label(mango_mask, connectivity=2, return_num=True)\n",
    "    object_features = ski.measure.regionprops(labeled_mango)\n",
    "\n",
    "    var_color_props = ['intensity_mean']\n",
    "    color_props = ski.measure.regionprops_table(labeled_mango, mango_img, properties=var_color_props)\n",
    "\n",
    "    var_gris_props = ['area', 'intensity_max', 'intensity_min', 'intensity_mean']\n",
    "    gris_props = ski.measure.regionprops_table(labeled_mango, gray_img, properties=var_gris_props)\n",
    "    \n",
    "    grayImg_stdev = std_image(gray_img, mango_mask)\n",
    "    df_image = pd.DataFrame(gris_props)\n",
    "    \n",
    "    df_image.rename(columns={'intensity_max': 'max_gray_value', 'intensity_min': 'min_gray_value', 'intensity_mean': 'mean_gray_value'}, inplace=True)\n",
    "    \n",
    "    df_image['mean_value_R'] = color_props['intensity_mean-0'] \n",
    "    df_image['mean_value_G'] = color_props['intensity_mean-1'] \n",
    "    df_image['mean_value_B'] = color_props['intensity_mean-2']\n",
    "    df_image['std'] = grayImg_stdev \n",
    "    \n",
    "    print(df_image.head())"
   ]
  },
  {
   "cell_type": "code",
   "execution_count": 17,
   "metadata": {},
   "outputs": [],
   "source": [
    "def std_image(gray_img, mango_mask):\n",
    "    mango_mask = ski.util.invert(mango_mask)\n",
    "    idx_list = np.where(mango_mask == 1)\n",
    "    mangoPixel_values = gray_img[idx_list]\n",
    "    stdev = statistics.stdev(mangoPixel_values)\n",
    "    return stdev"
   ]
  },
  {
   "cell_type": "code",
   "execution_count": 18,
   "metadata": {},
   "outputs": [
    {
     "name": "stdout",
     "output_type": "stream",
     "text": [
      "     area  max_gray_value  min_gray_value  mean_gray_value  mean_value_R  \\\n",
      "0  4082.0        0.675431        0.072455         0.408536    138.810632   \n",
      "1     5.0        0.153276        0.140082         0.148726     36.400000   \n",
      "2     1.0        0.203224        0.203224         0.203224     36.000000   \n",
      "3     2.0        0.209868        0.194182         0.202025     45.000000   \n",
      "4     1.0        0.189910        0.189910         0.189910     48.000000   \n",
      "\n",
      "   mean_value_G  mean_value_B       std  \n",
      "0     99.591867     47.592357  0.059956  \n",
      "1     37.000000     51.600000  0.059956  \n",
      "2     56.000000     57.000000  0.059956  \n",
      "3     53.000000     56.000000  0.059956  \n",
      "4     49.000000     44.000000  0.059956  \n"
     ]
    }
   ],
   "source": [
    "extract_properties(imagen2[1],imagen2[2],imagen2[3])"
   ]
  },
  {
   "cell_type": "code",
   "execution_count": null,
   "metadata": {},
   "outputs": [],
   "source": []
  }
 ],
 "metadata": {
  "colab": {
   "provenance": []
  },
  "kernelspec": {
   "display_name": "Python 3 (ipykernel)",
   "language": "python",
   "name": "python3"
  },
  "language_info": {
   "codemirror_mode": {
    "name": "ipython",
    "version": 3
   },
   "file_extension": ".py",
   "mimetype": "text/x-python",
   "name": "python",
   "nbconvert_exporter": "python",
   "pygments_lexer": "ipython3",
   "version": "3.11.5"
  }
 },
 "nbformat": 4,
 "nbformat_minor": 4
}
