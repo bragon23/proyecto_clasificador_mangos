{
  "nbformat": 4,
  "nbformat_minor": 0,
  "metadata": {
    "colab": {
      "provenance": []
    },
    "kernelspec": {
      "name": "python3",
      "display_name": "Python 3"
    },
    "language_info": {
      "name": "python"
    }
  },
  "cells": [
    {
      "cell_type": "markdown",
      "source": [
        "#### **PROGRAMA QUE UTILIZA MACHING LEARNIN PARA CLASIFICAR LOS MANGOS MADUROS Y PODRIDOS**\n",
        "---\n"
      ],
      "metadata": {
        "id": "G5oiysvhrYUW"
      }
    },
    {
      "cell_type": "markdown",
      "source": [
        "Este programa ilustra el uso de las librerías skimage, pathlib, numpy y matplotlib, para cargar un dataset de imagenes, inspeccionar datos, graficar y corregir errores. El conjunto de datos tomado para este trabajo es de: https://www.kaggle.com/datasets/adrinbd/unripe-ripe-rotten-mango\n",
        "\n",
        "Este conjunto de datos cuenta con una clasificacion de 3 estados del mango, maduro(ripe), inmaduro(unripe) y podrido(rotten) con sus respectivas imagenes para el entrenamiento del modelo, de este conjunto de datos solo se tendran en cuenta los estados maduros y podridos, se trabajara con las mascaras de los mangos, el proceso para obtener estas mascaras no se tendra en cuneta en este trabajo.\n",
        "\n",
        "El objetivo de estos conjuntos de imagenes es ser capas de difinir si un mango esta maduro(ripe) o podrido(rotten), usando ese conjunto de imagenes para entrenar este modelo."
      ],
      "metadata": {
        "id": "59ICgMNms9U5"
      }
    },
    {
      "cell_type": "code",
      "source": [
        "\n",
        "import matplotlib\n",
        "import matplotlib.pyplot as plt\n",
        "\n",
        "from pathlib import Path\n",
        "import os\n",
        "\n",
        "from skimage.data import page\n",
        "from skimage.filters import threshold_otsu\n",
        "from skimage.color import rgb2gray\n",
        "\n",
        "import pandas as pd\n",
        "import numpy as np\n",
        "import skimage as ski\n",
        "import statistics\n",
        "\n",
        "from scipy.ndimage import binary_fill_holes\n",
        "from skimage.morphology import remove_small_objects\n",
        "\n",
        "\n"
      ],
      "metadata": {
        "id": "TU9C_RItuCWk"
      },
      "execution_count": 88,
      "outputs": []
    },
    {
      "cell_type": "markdown",
      "source": [
        "Se creara la función obtener_mascaras(), la cual retornara una lista con las imagenes que estan dentro de una carpeta, recibiendo como parametro la ruta de dicha carpeta que contiene las imagenes, y en ella se validara que los archivos que se obtengan sean un formato valida de imagenes para este trabajo."
      ],
      "metadata": {
        "id": "vFwZYlHGuE5E"
      }
    },
    {
      "cell_type": "code",
      "source": [
        "def obtener_imagenes(ruta_carpeta):\n",
        "    \"\"\"Devuelve una lista de imágenes normales y en escala de grises de la carpeta especificada con el respectivo nombre de la imgen.\"\"\"\n",
        "    imagenes = []\n",
        "    cont = 0\n",
        "    for archivo in os.listdir(ruta_carpeta):\n",
        "        try:\n",
        "            img = ski.io.imread(ruta_carpeta+\"/\"+archivo)\n",
        "            img = ski.util.img_as_ubyte(img)\n",
        "            gray_image = rgb2gray(img)\n",
        "            imagenes.append([archivo,img,gray_image, \"\"])\n",
        "        except Exception as e:\n",
        "            cont = cont + 1\n",
        "\n",
        "    return imagenes"
      ],
      "metadata": {
        "id": "fLJVFnSaGeSD"
      },
      "execution_count": 28,
      "outputs": []
    },
    {
      "cell_type": "code",
      "source": [
        "def obtener_mask(ruta_carpeta, coleccion):\n",
        "    \"\"\"Devuelve una lista de imágenes normales y en escala de grises de la carpeta especificada con el respectivo nombre de la imgen.\"\"\"\n",
        "    imagenes = []\n",
        "    cont = 0\n",
        "    carpeta = os.listdir(ruta_carpeta)\n",
        "    for i in coleccion:\n",
        "      nombre_img = obtener_primera_palabra(i[0],\".\")\n",
        "      #print(nombre_img)\n",
        "      for archivo in carpeta:\n",
        "\n",
        "        nombre_mask = obtener_primera_palabra(archivo,\"_\")\n",
        "        #print(nombre_mask, \"y\",nombre_img)\n",
        "        if nombre_img == nombre_mask:\n",
        "\n",
        "          i[3] = np.load(ruta_carpeta+\"/\"+archivo)\n",
        "          imagenes.append(i)\n",
        "          break\n",
        "\n",
        "\n",
        "    return imagenes"
      ],
      "metadata": {
        "id": "jRbqCu0sQ7pi"
      },
      "execution_count": 52,
      "outputs": []
    },
    {
      "cell_type": "code",
      "source": [
        "def obtener_primera_palabra(palabra, caracter):\n",
        "    p = palabra.split(caracter)\n",
        "    return p[0]"
      ],
      "metadata": {
        "id": "VQRFC7i5Rpep"
      },
      "execution_count": 24,
      "outputs": []
    },
    {
      "cell_type": "code",
      "source": [
        "def intensity_table(grayValues):\n",
        "    table = {}\n",
        "    for ival in range(256):\n",
        "        table['val_'+ str(ival)] = [np.count_nonzero(grayValues == ival)]\n",
        "\n",
        "    df_table = pd.DataFrame.from_dict(table, orient='columns')\n",
        "    return df_table"
      ],
      "metadata": {
        "id": "jMk2IqnAudUu"
      },
      "execution_count": 68,
      "outputs": []
    },
    {
      "cell_type": "markdown",
      "source": [],
      "metadata": {
        "id": "-kROxSxGFQv0"
      }
    },
    {
      "cell_type": "code",
      "source": [
        "def hist2features(grayImg, mangoMask):\n",
        "    #color = ski.util.img_as_ubyte(colorImg)\n",
        "    gray = ski.util.img_as_ubyte(grayImg)\n",
        "    #mango_mask = ski.util.invert(mangoMask)\n",
        "    mango_mask = mangoMask\n",
        "\n",
        "    masked_gray = gray * mango_mask\n",
        "    plt.imshow(masked_gray, cmap = 'gray')\n",
        "    plt.show()\n",
        "    df_intensities = intensity_table(masked_gray)\n",
        "    print(df_intensities)\n",
        "    return df_intensities"
      ],
      "metadata": {
        "id": "zrmIGARGFQ9r"
      },
      "execution_count": 85,
      "outputs": []
    },
    {
      "cell_type": "markdown",
      "source": [],
      "metadata": {
        "id": "u0_o2TSzFbXL"
      }
    },
    {
      "cell_type": "code",
      "source": [
        "ripe = obtener_imagenes(\"/content/ripe\")\n",
        "rotten = obtener_imagenes(\"/content/rotten\")\n"
      ],
      "metadata": {
        "id": "W3N7djx1FcUM"
      },
      "execution_count": 31,
      "outputs": []
    },
    {
      "cell_type": "code",
      "source": [
        "ripe = obtener_mask(\"/content/ripe_masks\",ripe)\n",
        "rotten = obtener_mask(\"/content/rotten_masks\",rotten)"
      ],
      "metadata": {
        "id": "FQTx9fqkSnOD"
      },
      "execution_count": 57,
      "outputs": []
    },
    {
      "cell_type": "code",
      "source": [
        "imagen = ripe[23]\n",
        "hist2features(imagen[2],imagen[3])\n",
        "imagen2 = rotten[231]\n",
        "hist2features(imagen2[2],imagen2[3])"
      ],
      "metadata": {
        "colab": {
          "base_uri": "https://localhost:8080/",
          "height": 193
        },
        "id": "Twrb5vNTcbFO",
        "outputId": "c3771854-1c3d-49b6-8666-f8ee587554e5"
      },
      "execution_count": 2,
      "outputs": [
        {
          "output_type": "error",
          "ename": "NameError",
          "evalue": "name 'ripe' is not defined",
          "traceback": [
            "\u001b[0;31m---------------------------------------------------------------------------\u001b[0m",
            "\u001b[0;31mNameError\u001b[0m                                 Traceback (most recent call last)",
            "\u001b[0;32m<ipython-input-2-945d00f6bdce>\u001b[0m in \u001b[0;36m<cell line: 1>\u001b[0;34m()\u001b[0m\n\u001b[0;32m----> 1\u001b[0;31m \u001b[0mimagen\u001b[0m \u001b[0;34m=\u001b[0m \u001b[0mripe\u001b[0m\u001b[0;34m[\u001b[0m\u001b[0;36m231\u001b[0m\u001b[0;34m]\u001b[0m\u001b[0;34m\u001b[0m\u001b[0;34m\u001b[0m\u001b[0m\n\u001b[0m\u001b[1;32m      2\u001b[0m \u001b[0mhist2features\u001b[0m\u001b[0;34m(\u001b[0m\u001b[0mimagen\u001b[0m\u001b[0;34m[\u001b[0m\u001b[0;36m2\u001b[0m\u001b[0;34m]\u001b[0m\u001b[0;34m,\u001b[0m\u001b[0mimagen\u001b[0m\u001b[0;34m[\u001b[0m\u001b[0;36m3\u001b[0m\u001b[0;34m]\u001b[0m\u001b[0;34m)\u001b[0m\u001b[0;34m\u001b[0m\u001b[0;34m\u001b[0m\u001b[0m\n\u001b[1;32m      3\u001b[0m \u001b[0mimagen2\u001b[0m \u001b[0;34m=\u001b[0m \u001b[0mrotten\u001b[0m\u001b[0;34m[\u001b[0m\u001b[0;36m231\u001b[0m\u001b[0;34m]\u001b[0m\u001b[0;34m\u001b[0m\u001b[0;34m\u001b[0m\u001b[0m\n\u001b[1;32m      4\u001b[0m \u001b[0mhist2features\u001b[0m\u001b[0;34m(\u001b[0m\u001b[0mimagen2\u001b[0m\u001b[0;34m[\u001b[0m\u001b[0;36m2\u001b[0m\u001b[0;34m]\u001b[0m\u001b[0;34m,\u001b[0m\u001b[0mimagen2\u001b[0m\u001b[0;34m[\u001b[0m\u001b[0;36m3\u001b[0m\u001b[0;34m]\u001b[0m\u001b[0;34m)\u001b[0m\u001b[0;34m\u001b[0m\u001b[0;34m\u001b[0m\u001b[0m\n",
            "\u001b[0;31mNameError\u001b[0m: name 'ripe' is not defined"
          ]
        }
      ]
    }
  ]
}